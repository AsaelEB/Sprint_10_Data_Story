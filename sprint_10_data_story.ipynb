{
 "cells": [
  {
   "cell_type": "markdown",
   "metadata": {},
   "source": [
    "# Sprint 10: Contar una historia utilizando datos <a id='back'></a>"
   ]
  },
  {
   "cell_type": "markdown",
   "metadata": {
    "toc": true
   },
   "source": [
    "<h1>Tabla de Contenidos<span class=\"tocSkip\"></span></h1>\n",
    "<div class=\"toc\"><ul class=\"toc-item\"><li><span><a href=\"#INTRODUCCIÓN-\" data-toc-modified-id=\"INTRODUCCIÓN--1\"><span class=\"toc-item-num\">1&nbsp;&nbsp;</span>INTRODUCCIÓN <a id=\"intro\"></a></a></span></li><li><span><a href=\"#PREPARAR-LOS-DATOS-\" data-toc-modified-id=\"PREPARAR-LOS-DATOS--2\"><span class=\"toc-item-num\">2&nbsp;&nbsp;</span>PREPARAR LOS DATOS <a id=\"prep\"></a></a></span></li><li><span><a href=\"#ANÁLISIS-DE-LOS-DATOS-\" data-toc-modified-id=\"ANÁLISIS-DE-LOS-DATOS--3\"><span class=\"toc-item-num\">3&nbsp;&nbsp;</span>ANÁLISIS DE LOS DATOS <a id=\"analysis\"></a></a></span><ul class=\"toc-item\"><li><span><a href=\"#Proporciones-de-los-tipos-de-establecimientos-\" data-toc-modified-id=\"Proporciones-de-los-tipos-de-establecimientos--3.1\"><span class=\"toc-item-num\">3.1&nbsp;&nbsp;</span>Proporciones de los tipos de establecimientos <a id=\"rest_proportions\"></a></a></span></li><li><span><a href=\"#Proporciones-de-pertenencia-a-una-cadena-\" data-toc-modified-id=\"Proporciones-de-pertenencia-a-una-cadena--3.2\"><span class=\"toc-item-num\">3.2&nbsp;&nbsp;</span>Proporciones de pertenencia a una cadena <a id=\"chain_proportions\"></a></a></span></li><li><span><a href=\"#¿Qué-tipo-de-establecimiento-es-habitualmente-una-cadena?-\" data-toc-modified-id=\"¿Qué-tipo-de-establecimiento-es-habitualmente-una-cadena?--3.3\"><span class=\"toc-item-num\">3.3&nbsp;&nbsp;</span>¿Qué tipo de establecimiento es habitualmente una cadena? <a id=\"type_chains\"></a></a></span></li><li><span><a href=\"#¿Qué-caracteriza-a-las-cadenas?-\" data-toc-modified-id=\"¿Qué-caracteriza-a-las-cadenas?--3.4\"><span class=\"toc-item-num\">3.4&nbsp;&nbsp;</span>¿Qué caracteriza a las cadenas? <a id=\"chains_seats\"></a></a></span></li><li><span><a href=\"#Promedio-de-número-de-asientos-\" data-toc-modified-id=\"Promedio-de-número-de-asientos--3.5\"><span class=\"toc-item-num\">3.5&nbsp;&nbsp;</span>Promedio de número de asientos <a id=\"type_seats_mean\"></a></a></span></li><li><span><a href=\"#Calles-por-número-de-restaurantes-\" data-toc-modified-id=\"Calles-por-número-de-restaurantes--3.6\"><span class=\"toc-item-num\">3.6&nbsp;&nbsp;</span>Calles por número de restaurantes <a id=\"streets\"></a></a></span></li><li><span><a href=\"#Número-de-calles-con-un-establecimiento-\" data-toc-modified-id=\"Número-de-calles-con-un-establecimiento--3.7\"><span class=\"toc-item-num\">3.7&nbsp;&nbsp;</span>Número de calles con un establecimiento <a id=\"streets_one_rest\"></a></a></span></li><li><span><a href=\"#Distribución-del-número-de-asientos-por-calle-\" data-toc-modified-id=\"Distribución-del-número-de-asientos-por-calle--3.8\"><span class=\"toc-item-num\">3.8&nbsp;&nbsp;</span>Distribución del número de asientos por calle <a id=\"streets_seats\"></a></a></span></li></ul></li><li><span><a href=\"#PRESENTACIÓN-\" data-toc-modified-id=\"PRESENTACIÓN--4\"><span class=\"toc-item-num\">4&nbsp;&nbsp;</span>PRESENTACIÓN <a id=\"presentation\"></a></a></span></li><li><span><a href=\"#CONCLUSIONES-GENERALES-\" data-toc-modified-id=\"CONCLUSIONES-GENERALES--5\"><span class=\"toc-item-num\">5&nbsp;&nbsp;</span>CONCLUSIONES GENERALES <a id=\"end\"></a></a></span></li></ul></div>"
   ]
  },
  {
   "cell_type": "markdown",
   "metadata": {},
   "source": [
    "## INTRODUCCIÓN <a id='intro'></a>\n",
    "\n"
   ]
  },
  {
   "cell_type": "markdown",
   "metadata": {},
   "source": [
    "Nuestro proyecto consiste, de manera general, en realizar un análisis visual sobre los datos obtenidos en varias cadenas de restaurantes dentro de un área específica (Los Ángeles), el análisis se realiza con el objetivo de análizar a la competencia para la instalación de un nuevo establecimiento en el área, con la intención de proporcionar recomendaciones sobre el tipo de restaurante y el número de asientos que se requieren para llamar la atención de las personas y, sobre todo, de inversionistas para poder llevar a cabo la creación y mantenimiento del lugar, junto con las posibilidades de desarrollar alguna cadena.\n",
    "\n",
    "Usando las herramientas aprendidas, se realizará dentro de este proyecto una presentación de la investigación realizada para compartir con el grupo de inversionistas e intentar convencerlos de invertir en nuestra idea de negocio.\n"
   ]
  },
  {
   "cell_type": "markdown",
   "metadata": {},
   "source": [
    "## PREPARAR LOS DATOS <a id='prep'></a>\n",
    "\n",
    "Comenzaré este proyecto haciendo un análisis exploratorio de los datos usando el archivo proporcionado. Se analizará el archivo que contiene la información de los establecimientos en el área de Los Ángeles, para hacer el análisis de forma rápida y precisa, se hace una busqueda de posibles valores nulos, filas duplicadas. Los tipos de datos por columna se crearán al momento de la carga del dataset, en caso de que sea necesario cambiar el tipo de alguna columna.\n",
    "\n",
    "A continuación, para tener una idea clara de los recursos con los que se trabaja, se describen los datos en el archivo que se utilizará a lo largo de este proyecto. El archivo se localiza con la ruta: `/datasets/rest_data_us_upd.csv`, contiene las siguientes columnas:\n",
    "\n",
    "* object_name: Nombre del establecimiento.\n",
    "* chain: Si el establecimiento que pertenece a una cadena tendrá el valor TRUE, en caso contrario será FALSE.\n",
    "* object_type: Tipo de establecimiento.\n",
    "* address: Dirección del establecimiento.\n",
    "* number: Número de asientos."
   ]
  },
  {
   "cell_type": "code",
   "execution_count": 1,
   "metadata": {},
   "outputs": [],
   "source": [
    "# Importar librerias\n",
    "import pandas as pd\n",
    "import seaborn as sns\n",
    "from matplotlib import pyplot as plt\n",
    "import plotly.graph_objects as go\n",
    "import plotly.express as px\n",
    "import re\n",
    "\n",
    "import math as mth\n",
    "import numpy as np\n",
    "from scipy import stats as sts"
   ]
  },
  {
   "cell_type": "code",
   "execution_count": 2,
   "metadata": {},
   "outputs": [],
   "source": [
    "# Cargar el archivo\n",
    "data = pd.read_csv(\"datasets/rest_data_us_upd.csv\", dtype={'chain': 'boolean'} )\n",
    "data.rename(columns={'number':'seats'}, inplace=True)"
   ]
  },
  {
   "cell_type": "code",
   "execution_count": 3,
   "metadata": {
    "scrolled": true
   },
   "outputs": [
    {
     "name": "stdout",
     "output_type": "stream",
     "text": [
      "                 id        seats\n",
      "count   9651.000000  9651.000000\n",
      "mean   16611.000000    43.695161\n",
      "std     2786.148058    47.622874\n",
      "min    11786.000000     1.000000\n",
      "25%    14198.500000    14.000000\n",
      "50%    16611.000000    27.000000\n",
      "75%    19023.500000    46.000000\n",
      "max    21436.000000   229.000000\n",
      "\n",
      "<class 'pandas.core.frame.DataFrame'>\n",
      "RangeIndex: 9651 entries, 0 to 9650\n",
      "Data columns (total 6 columns):\n",
      " #   Column       Non-Null Count  Dtype  \n",
      "---  ------       --------------  -----  \n",
      " 0   id           9651 non-null   int64  \n",
      " 1   object_name  9651 non-null   object \n",
      " 2   address      9651 non-null   object \n",
      " 3   chain        9648 non-null   boolean\n",
      " 4   object_type  9651 non-null   object \n",
      " 5   seats        9651 non-null   int64  \n",
      "dtypes: boolean(1), int64(2), object(3)\n",
      "memory usage: 396.0+ KB\n",
      "None\n",
      "\n",
      "Duplicados:  0\n"
     ]
    }
   ],
   "source": [
    "# Observar los dataframes, tipos de datos, elementos nulos y duplicados\n",
    "# Hipótesis\n",
    "print(data.describe())\n",
    "print()\n",
    "print(data.info())\n",
    "print()\n",
    "print(\"Duplicados: \", data.duplicated().sum())"
   ]
  },
  {
   "cell_type": "code",
   "execution_count": 4,
   "metadata": {
    "scrolled": true
   },
   "outputs": [
    {
     "data": {
      "text/html": [
       "<div>\n",
       "<style scoped>\n",
       "    .dataframe tbody tr th:only-of-type {\n",
       "        vertical-align: middle;\n",
       "    }\n",
       "\n",
       "    .dataframe tbody tr th {\n",
       "        vertical-align: top;\n",
       "    }\n",
       "\n",
       "    .dataframe thead th {\n",
       "        text-align: right;\n",
       "    }\n",
       "</style>\n",
       "<table border=\"1\" class=\"dataframe\">\n",
       "  <thead>\n",
       "    <tr style=\"text-align: right;\">\n",
       "      <th></th>\n",
       "      <th>id</th>\n",
       "      <th>object_name</th>\n",
       "      <th>address</th>\n",
       "      <th>chain</th>\n",
       "      <th>object_type</th>\n",
       "      <th>seats</th>\n",
       "    </tr>\n",
       "  </thead>\n",
       "  <tbody>\n",
       "    <tr>\n",
       "      <th>7408</th>\n",
       "      <td>19194</td>\n",
       "      <td>TAQUERIA LOS 3 CARNALES</td>\n",
       "      <td>5000 E WHITTIER BLVD</td>\n",
       "      <td>&lt;NA&gt;</td>\n",
       "      <td>Restaurant</td>\n",
       "      <td>14</td>\n",
       "    </tr>\n",
       "    <tr>\n",
       "      <th>7523</th>\n",
       "      <td>19309</td>\n",
       "      <td>JAMMIN JIMMY'S PIZZA</td>\n",
       "      <td>1641 FIRESTONE BLVD</td>\n",
       "      <td>&lt;NA&gt;</td>\n",
       "      <td>Pizza</td>\n",
       "      <td>1</td>\n",
       "    </tr>\n",
       "    <tr>\n",
       "      <th>8648</th>\n",
       "      <td>20434</td>\n",
       "      <td>THE LEXINGTON THEATER</td>\n",
       "      <td>129 E 3RD ST</td>\n",
       "      <td>&lt;NA&gt;</td>\n",
       "      <td>Restaurant</td>\n",
       "      <td>35</td>\n",
       "    </tr>\n",
       "  </tbody>\n",
       "</table>\n",
       "</div>"
      ],
      "text/plain": [
       "         id              object_name               address  chain object_type  \\\n",
       "7408  19194  TAQUERIA LOS 3 CARNALES  5000 E WHITTIER BLVD   <NA>  Restaurant   \n",
       "7523  19309     JAMMIN JIMMY'S PIZZA   1641 FIRESTONE BLVD   <NA>       Pizza   \n",
       "8648  20434    THE LEXINGTON THEATER          129 E 3RD ST   <NA>  Restaurant   \n",
       "\n",
       "      seats  \n",
       "7408     14  \n",
       "7523      1  \n",
       "8648     35  "
      ]
     },
     "metadata": {},
     "output_type": "display_data"
    },
    {
     "name": "stdout",
     "output_type": "stream",
     "text": [
      "<class 'pandas.core.frame.DataFrame'>\n",
      "RangeIndex: 9651 entries, 0 to 9650\n",
      "Data columns (total 6 columns):\n",
      " #   Column       Non-Null Count  Dtype  \n",
      "---  ------       --------------  -----  \n",
      " 0   id           9651 non-null   int64  \n",
      " 1   object_name  9651 non-null   object \n",
      " 2   address      9651 non-null   object \n",
      " 3   chain        9651 non-null   boolean\n",
      " 4   object_type  9651 non-null   object \n",
      " 5   seats        9651 non-null   int64  \n",
      "dtypes: boolean(1), int64(2), object(3)\n",
      "memory usage: 396.0+ KB\n",
      "None\n"
     ]
    }
   ],
   "source": [
    "# Observar y eliminar datos con valores nulos\n",
    "display(data[data['chain'].isna()])\n",
    "data.fillna(False, inplace=True)\n",
    "print(data.info())"
   ]
  },
  {
   "cell_type": "markdown",
   "metadata": {},
   "source": [
    "**CONCLUSIONES**\n",
    "\n",
    "Al cargar el archivo de datos, he cambiado el tipo de dato de la columna 'chain' a un tipo booleano, de esta forma pienso que se podrá manejar con mayor facilidad, también he cambiado el nombre de la columna `number` a `seats` para que sea más fácil de saber a qué hace referencia el valor en la columna.\n",
    "\n",
    "Se pudieron observar valores nulos en la columna 'chain', esta columna indica si el establecimiento cuenta o no con alguna sucursal, en este caso ninguno de los pocos valores observados contaba con una cadena, entonces se ha decididio simplemente rellenar la columna con el valor False. También se pudo observar que en estos establecimientos existe un lugar con el valor de 1 asiento, lo cuál no sabemos si esté correcto o sea un error en el registro, lo dejaremos dentro de los datos, pero es algo que ya se observó e igualmente puede haber más valores similares."
   ]
  },
  {
   "cell_type": "markdown",
   "metadata": {},
   "source": [
    "[Volver a Contenidos](#back)"
   ]
  },
  {
   "cell_type": "markdown",
   "metadata": {},
   "source": [
    "## ANÁLISIS DE LOS DATOS <a id='analysis'></a>"
   ]
  },
  {
   "cell_type": "markdown",
   "metadata": {},
   "source": [
    "Ahora se llevará a cabo el análisis correspondiente de los datos, al finalizar la sección se podran realizar las observaciones y proporcionar las recomendaciones sobre el tipo de restaurante que conviene elegir y el número de asientos que se deberían usar en el establecimiento.\n",
    "\n",
    "En las siguientes secciones se irán planteando las respuestas con sus procedimientos y mostrando las gráficas necesarias para llegar a las conclusiones que serán presentadas en una presentación."
   ]
  },
  {
   "cell_type": "markdown",
   "metadata": {},
   "source": [
    "### Proporciones de los tipos de establecimientos <a id='rest_proportions'></a>\n",
    "\n",
    "Para comenzar la investigación, se realizará una observación sobre las proporciones de los distintos tipos de establecimientos en el área, para resolverlo se obtiene elnúmero total de establecimientos de cada tipo y se divide entre el número total de establecimientos en la zona. Para observar mejor las proporciones se trazará un gráfico de barras, que nos indicará cuáles son los establecimientos con mayor proporcion de presencia."
   ]
  },
  {
   "cell_type": "code",
   "execution_count": 5,
   "metadata": {
    "scrolled": true
   },
   "outputs": [
    {
     "data": {
      "text/html": [
       "<div>\n",
       "<style scoped>\n",
       "    .dataframe tbody tr th:only-of-type {\n",
       "        vertical-align: middle;\n",
       "    }\n",
       "\n",
       "    .dataframe tbody tr th {\n",
       "        vertical-align: top;\n",
       "    }\n",
       "\n",
       "    .dataframe thead th {\n",
       "        text-align: right;\n",
       "    }\n",
       "</style>\n",
       "<table border=\"1\" class=\"dataframe\">\n",
       "  <thead>\n",
       "    <tr style=\"text-align: right;\">\n",
       "      <th></th>\n",
       "      <th>object_type</th>\n",
       "      <th>id</th>\n",
       "      <th>object_name</th>\n",
       "      <th>address</th>\n",
       "      <th>chain</th>\n",
       "      <th>seats</th>\n",
       "      <th>rest_proportion</th>\n",
       "    </tr>\n",
       "  </thead>\n",
       "  <tbody>\n",
       "    <tr>\n",
       "      <th>0</th>\n",
       "      <td>Bakery</td>\n",
       "      <td>283</td>\n",
       "      <td>283</td>\n",
       "      <td>283</td>\n",
       "      <td>283</td>\n",
       "      <td>283</td>\n",
       "      <td>0.029323</td>\n",
       "    </tr>\n",
       "    <tr>\n",
       "      <th>1</th>\n",
       "      <td>Bar</td>\n",
       "      <td>292</td>\n",
       "      <td>292</td>\n",
       "      <td>292</td>\n",
       "      <td>292</td>\n",
       "      <td>292</td>\n",
       "      <td>0.030256</td>\n",
       "    </tr>\n",
       "    <tr>\n",
       "      <th>2</th>\n",
       "      <td>Cafe</td>\n",
       "      <td>435</td>\n",
       "      <td>435</td>\n",
       "      <td>435</td>\n",
       "      <td>435</td>\n",
       "      <td>435</td>\n",
       "      <td>0.045073</td>\n",
       "    </tr>\n",
       "    <tr>\n",
       "      <th>3</th>\n",
       "      <td>Fast Food</td>\n",
       "      <td>1066</td>\n",
       "      <td>1066</td>\n",
       "      <td>1066</td>\n",
       "      <td>1066</td>\n",
       "      <td>1066</td>\n",
       "      <td>0.110455</td>\n",
       "    </tr>\n",
       "    <tr>\n",
       "      <th>4</th>\n",
       "      <td>Pizza</td>\n",
       "      <td>320</td>\n",
       "      <td>320</td>\n",
       "      <td>320</td>\n",
       "      <td>320</td>\n",
       "      <td>320</td>\n",
       "      <td>0.033157</td>\n",
       "    </tr>\n",
       "    <tr>\n",
       "      <th>5</th>\n",
       "      <td>Restaurant</td>\n",
       "      <td>7255</td>\n",
       "      <td>7255</td>\n",
       "      <td>7255</td>\n",
       "      <td>7255</td>\n",
       "      <td>7255</td>\n",
       "      <td>0.751736</td>\n",
       "    </tr>\n",
       "  </tbody>\n",
       "</table>\n",
       "</div>"
      ],
      "text/plain": [
       "  object_type    id  object_name  address  chain  seats  rest_proportion\n",
       "0      Bakery   283          283      283    283    283         0.029323\n",
       "1         Bar   292          292      292    292    292         0.030256\n",
       "2        Cafe   435          435      435    435    435         0.045073\n",
       "3   Fast Food  1066         1066     1066   1066   1066         0.110455\n",
       "4       Pizza   320          320      320    320    320         0.033157\n",
       "5  Restaurant  7255         7255     7255   7255   7255         0.751736"
      ]
     },
     "metadata": {},
     "output_type": "display_data"
    }
   ],
   "source": [
    "# Buscar la proporción respecto a la cantidad total de establecimientos\n",
    "prop_1 = data.groupby('object_type', as_index=False).count()\n",
    "prop_1['rest_proportion'] = prop_1['id'] / prop_1['id'].sum()\n",
    "display(prop_1)"
   ]
  },
  {
   "cell_type": "code",
   "execution_count": 6,
   "metadata": {},
   "outputs": [
    {
     "data": {
      "image/png": "[encoded data removed]",
      "text/plain": [
       "<Figure size 432x288 with 1 Axes>"
      ]
     },
     "metadata": {
      "needs_background": "light"
     },
     "output_type": "display_data"
    }
   ],
   "source": [
    "# Grafico de proporción\n",
    "sns.barplot(x='object_type', y='rest_proportion', data=prop_1)\n",
    "# fig = go.Figure(data=[go.Pie(labels=prop_1['object_type'], values=prop_1['rest_proportion'])])\n",
    "plt.title('Proporción de establecimientos por tipo')\n",
    "plt.show()"
   ]
  },
  {
   "cell_type": "markdown",
   "metadata": {},
   "source": [
    "**CONCLUSIÓN**\n",
    "\n",
    "Del grafico y de los datos, se puede observar que el tipo de establecimiento que predomina el área es el de 'Restaurant', seguido por los lugares de comida rápida 'Fast_Food' y los 'Cafe' en tercer lugar. Con esto en cuenta, podemos ver que un restaurante puede ser más frecuentado por las personas, al mismo tiempo que habrá una mayor cantidad de competidores. Quizás instalar un café en el área tenga menos competencia, pero requerirá más análisis para saber qué tan conveniente es crear el establecimiento."
   ]
  },
  {
   "cell_type": "markdown",
   "metadata": {},
   "source": [
    "[Volver a Contenidos](#back)"
   ]
  },
  {
   "cell_type": "markdown",
   "metadata": {},
   "source": [
    "### Proporciones de pertenencia a una cadena <a id='chain_proportions'></a>\n",
    "\n",
    "Ya conocemos la proporción de los tipos de establecimientos en el área, así que ahora se realizará una observación para conocer qué proporción de los establecimientos corresponden a una cadena y cuáles de ellos no. Para obtener los resultados, se realiza una agrupación por el tipo de establecimiento y si pertenecen a una cadena o no, después se divide el número de establecimientos  pertenecientes a estas divisiones entre el número total de establecimientos en el área. Para mostrar los resultados obtenidos, se usa un gráfico de barras con los tipos de establecimientos y dividiendo por colores a la proporción de los que pertenecen a una cadena y los que no.\n",
    "\n",
    "Esto nos ayudará a observar cuántos de los establecimientos de cada tipo están representando a una cadena que posiblemente haya tenido un gran éxito en el pasado y debamos concentrarnos en superar a competencias menores en un primer acercamiento."
   ]
  },
  {
   "cell_type": "code",
   "execution_count": 7,
   "metadata": {},
   "outputs": [
    {
     "data": {
      "text/html": [
       "<div>\n",
       "<style scoped>\n",
       "    .dataframe tbody tr th:only-of-type {\n",
       "        vertical-align: middle;\n",
       "    }\n",
       "\n",
       "    .dataframe tbody tr th {\n",
       "        vertical-align: top;\n",
       "    }\n",
       "\n",
       "    .dataframe thead th {\n",
       "        text-align: right;\n",
       "    }\n",
       "</style>\n",
       "<table border=\"1\" class=\"dataframe\">\n",
       "  <thead>\n",
       "    <tr style=\"text-align: right;\">\n",
       "      <th></th>\n",
       "      <th>chain</th>\n",
       "      <th>object_type</th>\n",
       "      <th>id</th>\n",
       "      <th>object_name</th>\n",
       "      <th>address</th>\n",
       "      <th>seats</th>\n",
       "      <th>chain_general_proportion</th>\n",
       "    </tr>\n",
       "  </thead>\n",
       "  <tbody>\n",
       "    <tr>\n",
       "      <th>0</th>\n",
       "      <td>False</td>\n",
       "      <td>Bar</td>\n",
       "      <td>215</td>\n",
       "      <td>215</td>\n",
       "      <td>215</td>\n",
       "      <td>215</td>\n",
       "      <td>0.022277</td>\n",
       "    </tr>\n",
       "    <tr>\n",
       "      <th>1</th>\n",
       "      <td>False</td>\n",
       "      <td>Cafe</td>\n",
       "      <td>169</td>\n",
       "      <td>169</td>\n",
       "      <td>169</td>\n",
       "      <td>169</td>\n",
       "      <td>0.017511</td>\n",
       "    </tr>\n",
       "    <tr>\n",
       "      <th>2</th>\n",
       "      <td>False</td>\n",
       "      <td>Fast Food</td>\n",
       "      <td>461</td>\n",
       "      <td>461</td>\n",
       "      <td>461</td>\n",
       "      <td>461</td>\n",
       "      <td>0.047767</td>\n",
       "    </tr>\n",
       "    <tr>\n",
       "      <th>3</th>\n",
       "      <td>False</td>\n",
       "      <td>Pizza</td>\n",
       "      <td>167</td>\n",
       "      <td>167</td>\n",
       "      <td>167</td>\n",
       "      <td>167</td>\n",
       "      <td>0.017304</td>\n",
       "    </tr>\n",
       "    <tr>\n",
       "      <th>4</th>\n",
       "      <td>False</td>\n",
       "      <td>Restaurant</td>\n",
       "      <td>4963</td>\n",
       "      <td>4963</td>\n",
       "      <td>4963</td>\n",
       "      <td>4963</td>\n",
       "      <td>0.514247</td>\n",
       "    </tr>\n",
       "    <tr>\n",
       "      <th>5</th>\n",
       "      <td>True</td>\n",
       "      <td>Bakery</td>\n",
       "      <td>283</td>\n",
       "      <td>283</td>\n",
       "      <td>283</td>\n",
       "      <td>283</td>\n",
       "      <td>0.029323</td>\n",
       "    </tr>\n",
       "    <tr>\n",
       "      <th>6</th>\n",
       "      <td>True</td>\n",
       "      <td>Bar</td>\n",
       "      <td>77</td>\n",
       "      <td>77</td>\n",
       "      <td>77</td>\n",
       "      <td>77</td>\n",
       "      <td>0.007978</td>\n",
       "    </tr>\n",
       "    <tr>\n",
       "      <th>7</th>\n",
       "      <td>True</td>\n",
       "      <td>Cafe</td>\n",
       "      <td>266</td>\n",
       "      <td>266</td>\n",
       "      <td>266</td>\n",
       "      <td>266</td>\n",
       "      <td>0.027562</td>\n",
       "    </tr>\n",
       "    <tr>\n",
       "      <th>8</th>\n",
       "      <td>True</td>\n",
       "      <td>Fast Food</td>\n",
       "      <td>605</td>\n",
       "      <td>605</td>\n",
       "      <td>605</td>\n",
       "      <td>605</td>\n",
       "      <td>0.062688</td>\n",
       "    </tr>\n",
       "    <tr>\n",
       "      <th>9</th>\n",
       "      <td>True</td>\n",
       "      <td>Pizza</td>\n",
       "      <td>153</td>\n",
       "      <td>153</td>\n",
       "      <td>153</td>\n",
       "      <td>153</td>\n",
       "      <td>0.015853</td>\n",
       "    </tr>\n",
       "    <tr>\n",
       "      <th>10</th>\n",
       "      <td>True</td>\n",
       "      <td>Restaurant</td>\n",
       "      <td>2292</td>\n",
       "      <td>2292</td>\n",
       "      <td>2292</td>\n",
       "      <td>2292</td>\n",
       "      <td>0.237488</td>\n",
       "    </tr>\n",
       "  </tbody>\n",
       "</table>\n",
       "</div>"
      ],
      "text/plain": [
       "    chain object_type    id  object_name  address  seats  \\\n",
       "0   False         Bar   215          215      215    215   \n",
       "1   False        Cafe   169          169      169    169   \n",
       "2   False   Fast Food   461          461      461    461   \n",
       "3   False       Pizza   167          167      167    167   \n",
       "4   False  Restaurant  4963         4963     4963   4963   \n",
       "5    True      Bakery   283          283      283    283   \n",
       "6    True         Bar    77           77       77     77   \n",
       "7    True        Cafe   266          266      266    266   \n",
       "8    True   Fast Food   605          605      605    605   \n",
       "9    True       Pizza   153          153      153    153   \n",
       "10   True  Restaurant  2292         2292     2292   2292   \n",
       "\n",
       "    chain_general_proportion  \n",
       "0                   0.022277  \n",
       "1                   0.017511  \n",
       "2                   0.047767  \n",
       "3                   0.017304  \n",
       "4                   0.514247  \n",
       "5                   0.029323  \n",
       "6                   0.007978  \n",
       "7                   0.027562  \n",
       "8                   0.062688  \n",
       "9                   0.015853  \n",
       "10                  0.237488  "
      ]
     },
     "metadata": {},
     "output_type": "display_data"
    }
   ],
   "source": [
    "# Buscar la proporción respecto a la cantidad total de establecimientos\n",
    "prop_2 = data.groupby(['chain', 'object_type'], as_index=False).count()\n",
    "prop_2['chain_general_proportion'] = prop_2['id'] / prop_2['id'].sum()\n",
    "display(prop_2)"
   ]
  },
  {
   "cell_type": "code",
   "execution_count": 8,
   "metadata": {},
   "outputs": [
    {
     "data": {
      "image/png": "[encoded data removed]",
      "text/plain": [
       "<Figure size 432x288 with 1 Axes>"
      ]
     },
     "metadata": {
      "needs_background": "light"
     },
     "output_type": "display_data"
    }
   ],
   "source": [
    "# Grafico de proporción respecto al número total de establecimientos\n",
    "sns.barplot(x='object_type', y='chain_general_proportion', data=prop_2, hue='chain', palette=['tab:red', 'tab:blue'])\n",
    "plt.title('Proporción de cadenas respecto al numero total de establecimientos')\n",
    "plt.show()"
   ]
  },
  {
   "cell_type": "markdown",
   "metadata": {},
   "source": [
    "**CONCLUSIÓN**\n",
    "\n",
    "Se observa gráficamente que la proporción de establecimientos que pertenecen a una cadena es menor en establecimientos de tipo restaurant, pizza y bar, para el resto existe una mayor cantidad de establecimientos con cadenas. Algo que se puede apreciar es que todos los establecimientos del tipo 'Bakery' pertenecen a alguna cadena.\n"
   ]
  },
  {
   "cell_type": "markdown",
   "metadata": {},
   "source": [
    "[Volver a Contenidos](#back)"
   ]
  },
  {
   "cell_type": "markdown",
   "metadata": {},
   "source": [
    "### ¿Qué tipo de establecimiento es habitualmente una cadena? <a id='type_chains'></a>\n",
    "\n",
    "Tras haber realizado un análisis sobre los datos, se puede apreciar que la mayoría de establecimientos son restaurantes. Ahora realizaremos una observación para saber cuál es la cantidad de cada tipo de establecimiento respecto a si estos pertenecen a una cadena o no."
   ]
  },
  {
   "cell_type": "code",
   "execution_count": 9,
   "metadata": {
    "scrolled": false
   },
   "outputs": [
    {
     "data": {
      "text/html": [
       "<div>\n",
       "<style scoped>\n",
       "    .dataframe tbody tr th:only-of-type {\n",
       "        vertical-align: middle;\n",
       "    }\n",
       "\n",
       "    .dataframe tbody tr th {\n",
       "        vertical-align: top;\n",
       "    }\n",
       "\n",
       "    .dataframe thead th {\n",
       "        text-align: right;\n",
       "    }\n",
       "</style>\n",
       "<table border=\"1\" class=\"dataframe\">\n",
       "  <thead>\n",
       "    <tr style=\"text-align: right;\">\n",
       "      <th></th>\n",
       "      <th>chain</th>\n",
       "      <th>object_type</th>\n",
       "      <th>id_x</th>\n",
       "      <th>object_name</th>\n",
       "      <th>address</th>\n",
       "      <th>seats</th>\n",
       "      <th>chain_general_proportion</th>\n",
       "      <th>id_y</th>\n",
       "    </tr>\n",
       "  </thead>\n",
       "  <tbody>\n",
       "    <tr>\n",
       "      <th>0</th>\n",
       "      <td>False</td>\n",
       "      <td>Bar</td>\n",
       "      <td>215</td>\n",
       "      <td>215</td>\n",
       "      <td>215</td>\n",
       "      <td>215</td>\n",
       "      <td>0.022277</td>\n",
       "      <td>292</td>\n",
       "    </tr>\n",
       "    <tr>\n",
       "      <th>1</th>\n",
       "      <td>True</td>\n",
       "      <td>Bar</td>\n",
       "      <td>77</td>\n",
       "      <td>77</td>\n",
       "      <td>77</td>\n",
       "      <td>77</td>\n",
       "      <td>0.007978</td>\n",
       "      <td>292</td>\n",
       "    </tr>\n",
       "    <tr>\n",
       "      <th>2</th>\n",
       "      <td>False</td>\n",
       "      <td>Cafe</td>\n",
       "      <td>169</td>\n",
       "      <td>169</td>\n",
       "      <td>169</td>\n",
       "      <td>169</td>\n",
       "      <td>0.017511</td>\n",
       "      <td>435</td>\n",
       "    </tr>\n",
       "    <tr>\n",
       "      <th>3</th>\n",
       "      <td>True</td>\n",
       "      <td>Cafe</td>\n",
       "      <td>266</td>\n",
       "      <td>266</td>\n",
       "      <td>266</td>\n",
       "      <td>266</td>\n",
       "      <td>0.027562</td>\n",
       "      <td>435</td>\n",
       "    </tr>\n",
       "    <tr>\n",
       "      <th>4</th>\n",
       "      <td>False</td>\n",
       "      <td>Fast Food</td>\n",
       "      <td>461</td>\n",
       "      <td>461</td>\n",
       "      <td>461</td>\n",
       "      <td>461</td>\n",
       "      <td>0.047767</td>\n",
       "      <td>1066</td>\n",
       "    </tr>\n",
       "    <tr>\n",
       "      <th>5</th>\n",
       "      <td>True</td>\n",
       "      <td>Fast Food</td>\n",
       "      <td>605</td>\n",
       "      <td>605</td>\n",
       "      <td>605</td>\n",
       "      <td>605</td>\n",
       "      <td>0.062688</td>\n",
       "      <td>1066</td>\n",
       "    </tr>\n",
       "    <tr>\n",
       "      <th>6</th>\n",
       "      <td>False</td>\n",
       "      <td>Pizza</td>\n",
       "      <td>167</td>\n",
       "      <td>167</td>\n",
       "      <td>167</td>\n",
       "      <td>167</td>\n",
       "      <td>0.017304</td>\n",
       "      <td>320</td>\n",
       "    </tr>\n",
       "    <tr>\n",
       "      <th>7</th>\n",
       "      <td>True</td>\n",
       "      <td>Pizza</td>\n",
       "      <td>153</td>\n",
       "      <td>153</td>\n",
       "      <td>153</td>\n",
       "      <td>153</td>\n",
       "      <td>0.015853</td>\n",
       "      <td>320</td>\n",
       "    </tr>\n",
       "    <tr>\n",
       "      <th>8</th>\n",
       "      <td>False</td>\n",
       "      <td>Restaurant</td>\n",
       "      <td>4963</td>\n",
       "      <td>4963</td>\n",
       "      <td>4963</td>\n",
       "      <td>4963</td>\n",
       "      <td>0.514247</td>\n",
       "      <td>7255</td>\n",
       "    </tr>\n",
       "    <tr>\n",
       "      <th>9</th>\n",
       "      <td>True</td>\n",
       "      <td>Restaurant</td>\n",
       "      <td>2292</td>\n",
       "      <td>2292</td>\n",
       "      <td>2292</td>\n",
       "      <td>2292</td>\n",
       "      <td>0.237488</td>\n",
       "      <td>7255</td>\n",
       "    </tr>\n",
       "    <tr>\n",
       "      <th>10</th>\n",
       "      <td>True</td>\n",
       "      <td>Bakery</td>\n",
       "      <td>283</td>\n",
       "      <td>283</td>\n",
       "      <td>283</td>\n",
       "      <td>283</td>\n",
       "      <td>0.029323</td>\n",
       "      <td>283</td>\n",
       "    </tr>\n",
       "  </tbody>\n",
       "</table>\n",
       "</div>"
      ],
      "text/plain": [
       "    chain object_type  id_x  object_name  address  seats  \\\n",
       "0   False         Bar   215          215      215    215   \n",
       "1    True         Bar    77           77       77     77   \n",
       "2   False        Cafe   169          169      169    169   \n",
       "3    True        Cafe   266          266      266    266   \n",
       "4   False   Fast Food   461          461      461    461   \n",
       "5    True   Fast Food   605          605      605    605   \n",
       "6   False       Pizza   167          167      167    167   \n",
       "7    True       Pizza   153          153      153    153   \n",
       "8   False  Restaurant  4963         4963     4963   4963   \n",
       "9    True  Restaurant  2292         2292     2292   2292   \n",
       "10   True      Bakery   283          283      283    283   \n",
       "\n",
       "    chain_general_proportion  id_y  \n",
       "0                   0.022277   292  \n",
       "1                   0.007978   292  \n",
       "2                   0.017511   435  \n",
       "3                   0.027562   435  \n",
       "4                   0.047767  1066  \n",
       "5                   0.062688  1066  \n",
       "6                   0.017304   320  \n",
       "7                   0.015853   320  \n",
       "8                   0.514247  7255  \n",
       "9                   0.237488  7255  \n",
       "10                  0.029323   283  "
      ]
     },
     "metadata": {},
     "output_type": "display_data"
    },
    {
     "data": {
      "image/png": "[encoded data removed]",
      "text/plain": [
       "<Figure size 432x288 with 1 Axes>"
      ]
     },
     "metadata": {
      "needs_background": "light"
     },
     "output_type": "display_data"
    }
   ],
   "source": [
    "# Unir la cantidad de establecimientos por cadenas y cantidad por tipo\n",
    "prop_3 = prop_2.merge(prop_1[['object_type', 'id']], on='object_type')\n",
    "display(prop_3)\n",
    "\n",
    "# Esta proporción es respecto a los tipos de establecimientos con cadenas\n",
    "prop_3['chain_proportion_by_type'] = prop_3['id_x'] / prop_3['id_y']\n",
    "sns.barplot(x='object_type', y='chain_proportion_by_type', data=prop_3, hue='chain', palette=['tab:red', 'tab:blue'])\n",
    "plt.title('Proporción de cadenas respecto al tipo de establecimiento')\n",
    "plt.show()"
   ]
  },
  {
   "cell_type": "markdown",
   "metadata": {},
   "source": [
    "**CONCLUSIÓN**\n",
    "\n",
    "Al igual que en el gráfico de proporciones respecto al total de establecimientos, se observa que los establecimientos que tienen mayor cantidad de cadenas son los de tipo 'Fast_Food' y 'Cafe', mientras que los estableceimientos de tipo 'Bakery' son siempre cadenas, al menos en el área registrada. Con esta información, sabemos que colocar una cadena del esstablecimiento de tipo 'Cafe' puede ayudar a generar más ingresos en el área, pero se debe observar más información sobre los establecimientos para poder atraer más clientes y poder competir con el resto de establecimientos."
   ]
  },
  {
   "cell_type": "markdown",
   "metadata": {},
   "source": [
    "[Volver a Contenidos](#back)"
   ]
  },
  {
   "cell_type": "markdown",
   "metadata": {},
   "source": [
    "### ¿Qué caracteriza a las cadenas? <a id='chains_seats'></a>\n",
    "\n",
    "Con los análisis previos, ha surguido una pregunta que queremos responder: ¿Qué caracteriza a las cadenas: muchos establecimientos con un pequeño número de asientos o unos pocos establecimientos con un montón de asientos? Para resolver esta pregunta se filtran únicamente los establecimientos con cadenas, se observará la cantidad de asientos que los establecimientos suelen tener, con respecto a la cantidad de cadenas. Usaré un gráfico de distribución conjunta para observar con mayor exactitud el número de establecimientos con cadenas y el número promedio de asientos en cada uno."
   ]
  },
  {
   "cell_type": "code",
   "execution_count": 10,
   "metadata": {},
   "outputs": [
    {
     "data": {
      "text/html": [
       "<div>\n",
       "<style scoped>\n",
       "    .dataframe tbody tr th:only-of-type {\n",
       "        vertical-align: middle;\n",
       "    }\n",
       "\n",
       "    .dataframe tbody tr th {\n",
       "        vertical-align: top;\n",
       "    }\n",
       "\n",
       "    .dataframe thead th {\n",
       "        text-align: right;\n",
       "    }\n",
       "</style>\n",
       "<table border=\"1\" class=\"dataframe\">\n",
       "  <thead>\n",
       "    <tr style=\"text-align: right;\">\n",
       "      <th></th>\n",
       "      <th>object_name</th>\n",
       "      <th>chain</th>\n",
       "      <th>seats</th>\n",
       "    </tr>\n",
       "  </thead>\n",
       "  <tbody>\n",
       "    <tr>\n",
       "      <th>2459</th>\n",
       "      <td>THE COFFEE BEAN &amp; TEA LEAF</td>\n",
       "      <td>47</td>\n",
       "      <td>26.723404</td>\n",
       "    </tr>\n",
       "    <tr>\n",
       "      <th>2226</th>\n",
       "      <td>SUBWAY</td>\n",
       "      <td>31</td>\n",
       "      <td>16.419355</td>\n",
       "    </tr>\n",
       "    <tr>\n",
       "      <th>519</th>\n",
       "      <td>DOMINO'S PIZZA</td>\n",
       "      <td>15</td>\n",
       "      <td>12.333333</td>\n",
       "    </tr>\n",
       "    <tr>\n",
       "      <th>2608</th>\n",
       "      <td>WABA GRILL</td>\n",
       "      <td>14</td>\n",
       "      <td>42.857143</td>\n",
       "    </tr>\n",
       "    <tr>\n",
       "      <th>1089</th>\n",
       "      <td>KENTUCKY FRIED CHICKEN</td>\n",
       "      <td>14</td>\n",
       "      <td>33.357143</td>\n",
       "    </tr>\n",
       "    <tr>\n",
       "      <th>...</th>\n",
       "      <td>...</td>\n",
       "      <td>...</td>\n",
       "      <td>...</td>\n",
       "    </tr>\n",
       "    <tr>\n",
       "      <th>1009</th>\n",
       "      <td>JAMBA JUICE #425</td>\n",
       "      <td>1</td>\n",
       "      <td>29.000000</td>\n",
       "    </tr>\n",
       "    <tr>\n",
       "      <th>1011</th>\n",
       "      <td>JAMBA JUICE #644</td>\n",
       "      <td>1</td>\n",
       "      <td>12.000000</td>\n",
       "    </tr>\n",
       "    <tr>\n",
       "      <th>1012</th>\n",
       "      <td>JAMBA JUICE #661</td>\n",
       "      <td>1</td>\n",
       "      <td>23.000000</td>\n",
       "    </tr>\n",
       "    <tr>\n",
       "      <th>1014</th>\n",
       "      <td>JAMBA JUICE #919</td>\n",
       "      <td>1</td>\n",
       "      <td>12.000000</td>\n",
       "    </tr>\n",
       "    <tr>\n",
       "      <th>2732</th>\n",
       "      <td>ZIP SUSHI &amp; IZAKAYA</td>\n",
       "      <td>1</td>\n",
       "      <td>98.000000</td>\n",
       "    </tr>\n",
       "  </tbody>\n",
       "</table>\n",
       "<p>2733 rows × 3 columns</p>\n",
       "</div>"
      ],
      "text/plain": [
       "                     object_name  chain      seats\n",
       "2459  THE COFFEE BEAN & TEA LEAF     47  26.723404\n",
       "2226                      SUBWAY     31  16.419355\n",
       "519               DOMINO'S PIZZA     15  12.333333\n",
       "2608                  WABA GRILL     14  42.857143\n",
       "1089      KENTUCKY FRIED CHICKEN     14  33.357143\n",
       "...                          ...    ...        ...\n",
       "1009            JAMBA JUICE #425      1  29.000000\n",
       "1011            JAMBA JUICE #644      1  12.000000\n",
       "1012            JAMBA JUICE #661      1  23.000000\n",
       "1014            JAMBA JUICE #919      1  12.000000\n",
       "2732         ZIP SUSHI & IZAKAYA      1  98.000000\n",
       "\n",
       "[2733 rows x 3 columns]"
      ]
     },
     "metadata": {},
     "output_type": "display_data"
    }
   ],
   "source": [
    "# Promedio de asientos respecto a la cantidad total de establecimientos de las cadenas\n",
    "prop_3 = data[data['chain']==True].groupby('object_name', as_index=False).agg({'chain':'sum', 'seats':'mean'})\n",
    "display(prop_3.sort_values(by='chain',ascending=False))\n",
    "#display(data[data['object_name']==\"MCDONALD'S\"].sort_values(by='seats'))"
   ]
  },
  {
   "cell_type": "code",
   "execution_count": 11,
   "metadata": {
    "scrolled": true
   },
   "outputs": [
    {
     "data": {
      "image/png": "[encoded data removed]",
      "text/plain": [
       "<Figure size 432x432 with 3 Axes>"
      ]
     },
     "metadata": {
      "needs_background": "light"
     },
     "output_type": "display_data"
    },
    {
     "data": {
      "image/png": "[encoded data removed]",
      "text/plain": [
       "<Figure size 432x288 with 1 Axes>"
      ]
     },
     "metadata": {
      "needs_background": "light"
     },
     "output_type": "display_data"
    }
   ],
   "source": [
    "# Cantidad de cadenas por establecimiento y sus números de asiento\n",
    "sns.jointplot(x='chain', y='seats', data=prop_3)\n",
    "#plt.title('Cantidad de cadenas por establecimiento y sus números de asiento')\n",
    "plt.show()\n",
    "\n",
    "sns.histplot(x='seats', data=prop_3)\n",
    "plt.title('Cantidad de asientos')\n",
    "plt.show()"
   ]
  },
  {
   "cell_type": "markdown",
   "metadata": {},
   "source": [
    "**CONCLUSIÓN**\n",
    "\n",
    "Al mostrar los datos se pueden hacer las siguientes observaciones, en promedio, los establecimientos con mayor numero de cadenas, tienen menor cantidad de asientos, mientras que los establecimientos con una baja cantidad de cadenas, suelen tener un mayor número de asientos. También observamos que muchos de los establecimientos tienen cerca de un establecimiento por cadena, pero con una variedad en cuanto a la cantidad de asientos en promedio, la cuál va desde 1 asiento por 1 establecimiento, hasta 200 asientos en un solo establecimiento. Esto nos puede hacer pensar que existen establecimientos que forman parte de cadenas fuera de la zona que se está investigando y probablemente cuentan con una zona física con mayor capacidad para asientos."
   ]
  },
  {
   "cell_type": "markdown",
   "metadata": {},
   "source": [
    "[Volver a Contenidos](#back)"
   ]
  },
  {
   "cell_type": "markdown",
   "metadata": {},
   "source": [
    "### Promedio de número de asientos <a id='type_seats_mean'></a>\n",
    "\n",
    "Determinar el promedio del número de asientos para cada tipo de establecimiento para responder la siguiente pregunta: ¿Qué tipo de establecimiento tiene el mayor número de asientos? Para ello ralizaré una agrupación usando los tipos y usando la función promedio se podrá obtener el número de asientos en promedio para cada tipo de establecimiento. Con esto podremos observar si el tipo de establecimiento que queremos crear requiere una gran cantidad de asientos respecto al resto de establecimientos."
   ]
  },
  {
   "cell_type": "code",
   "execution_count": 12,
   "metadata": {},
   "outputs": [
    {
     "data": {
      "text/html": [
       "<div>\n",
       "<style scoped>\n",
       "    .dataframe tbody tr th:only-of-type {\n",
       "        vertical-align: middle;\n",
       "    }\n",
       "\n",
       "    .dataframe tbody tr th {\n",
       "        vertical-align: top;\n",
       "    }\n",
       "\n",
       "    .dataframe thead th {\n",
       "        text-align: right;\n",
       "    }\n",
       "</style>\n",
       "<table border=\"1\" class=\"dataframe\">\n",
       "  <thead>\n",
       "    <tr style=\"text-align: right;\">\n",
       "      <th></th>\n",
       "      <th>object_type</th>\n",
       "      <th>seats</th>\n",
       "    </tr>\n",
       "  </thead>\n",
       "  <tbody>\n",
       "    <tr>\n",
       "      <th>0</th>\n",
       "      <td>Bakery</td>\n",
       "      <td>21.773852</td>\n",
       "    </tr>\n",
       "    <tr>\n",
       "      <th>1</th>\n",
       "      <td>Bar</td>\n",
       "      <td>44.767123</td>\n",
       "    </tr>\n",
       "    <tr>\n",
       "      <th>2</th>\n",
       "      <td>Cafe</td>\n",
       "      <td>25.000000</td>\n",
       "    </tr>\n",
       "    <tr>\n",
       "      <th>3</th>\n",
       "      <td>Fast Food</td>\n",
       "      <td>31.837711</td>\n",
       "    </tr>\n",
       "    <tr>\n",
       "      <th>4</th>\n",
       "      <td>Pizza</td>\n",
       "      <td>28.459375</td>\n",
       "    </tr>\n",
       "    <tr>\n",
       "      <th>5</th>\n",
       "      <td>Restaurant</td>\n",
       "      <td>48.042316</td>\n",
       "    </tr>\n",
       "  </tbody>\n",
       "</table>\n",
       "</div>"
      ],
      "text/plain": [
       "  object_type      seats\n",
       "0      Bakery  21.773852\n",
       "1         Bar  44.767123\n",
       "2        Cafe  25.000000\n",
       "3   Fast Food  31.837711\n",
       "4       Pizza  28.459375\n",
       "5  Restaurant  48.042316"
      ]
     },
     "metadata": {},
     "output_type": "display_data"
    }
   ],
   "source": [
    "# Promedio de asientos respecto al tipo de establecimiento\n",
    "prop_4 = data.groupby('object_type', as_index=False).agg({'seats':'mean'})\n",
    "display(prop_4)"
   ]
  },
  {
   "cell_type": "code",
   "execution_count": 13,
   "metadata": {},
   "outputs": [
    {
     "data": {
      "image/png": "[encoded data removed]",
      "text/plain": [
       "<Figure size 432x288 with 1 Axes>"
      ]
     },
     "metadata": {
      "needs_background": "light"
     },
     "output_type": "display_data"
    }
   ],
   "source": [
    "sns.barplot(x='object_type', y='seats', data=prop_4)\n",
    "plt.title('Promedio de asientos por tipo de establecimiento')\n",
    "plt.show()"
   ]
  },
  {
   "cell_type": "markdown",
   "metadata": {},
   "source": [
    "**CONCLUSIÓN**\n",
    "\n",
    "Al ser mayor la cantidad de establecimientos de tipo 'Restaurant' se esperaba que el promedio de asientos fuera el mayor, sin embargo, surgue la observación que los establecimientos de tipo 'Bar' el segundo lugar de mayor cantidad de asientos promedio, si se tiene en cuenta la cantidad de establecimientos que hay de este tipo, podemos pensar que tienen un gran promedio de asientos por establecimiento.\n",
    "\n",
    "Enfocando los establecimientos del tipo 'Cafe', se puede observar que en promedio tienen 25 asientos por establecimiento, de esto se puede pensar que es muy probable que estos establecimientos no sean muy frecuentados por muchas personas al mismo tiempo, pero será un pequeño ahorro por el espacio y cantidad de asientos necesarios."
   ]
  },
  {
   "cell_type": "markdown",
   "metadata": {},
   "source": [
    "[Volver a Contenidos](#back)"
   ]
  },
  {
   "cell_type": "markdown",
   "metadata": {},
   "source": [
    "### Calles por número de restaurantes <a id='streets'></a>\n",
    "\n",
    "La tarea de esta sección es trazar un gráfico con las 10 mejores calles, ordenadas por el número de establecimientos en ellas. Para realizar este cálculo, primero se pide que se agreguen los datos de los nombres de las calles de la columna 'address' en una columna separada. Posterior a esto, podremos agrupar los datos usando las calles y hacer el conteo de establecimientos en cada una. Este análisis nos ayudará a observar en cuál de las calles en la zona es conveniente poner el establecimiento que deseamos crear."
   ]
  },
  {
   "cell_type": "code",
   "execution_count": 14,
   "metadata": {},
   "outputs": [
    {
     "data": {
      "text/html": [
       "<div>\n",
       "<style scoped>\n",
       "    .dataframe tbody tr th:only-of-type {\n",
       "        vertical-align: middle;\n",
       "    }\n",
       "\n",
       "    .dataframe tbody tr th {\n",
       "        vertical-align: top;\n",
       "    }\n",
       "\n",
       "    .dataframe thead th {\n",
       "        text-align: right;\n",
       "    }\n",
       "</style>\n",
       "<table border=\"1\" class=\"dataframe\">\n",
       "  <thead>\n",
       "    <tr style=\"text-align: right;\">\n",
       "      <th></th>\n",
       "      <th>street</th>\n",
       "      <th>id</th>\n",
       "      <th>object_name</th>\n",
       "      <th>address</th>\n",
       "      <th>chain</th>\n",
       "      <th>object_type</th>\n",
       "      <th>seats</th>\n",
       "    </tr>\n",
       "  </thead>\n",
       "  <tbody>\n",
       "    <tr>\n",
       "      <th>0</th>\n",
       "      <td>W SUNSET BLVD</td>\n",
       "      <td>296</td>\n",
       "      <td>296</td>\n",
       "      <td>296</td>\n",
       "      <td>296</td>\n",
       "      <td>296</td>\n",
       "      <td>296</td>\n",
       "    </tr>\n",
       "    <tr>\n",
       "      <th>1</th>\n",
       "      <td>W PICO BLVD</td>\n",
       "      <td>288</td>\n",
       "      <td>288</td>\n",
       "      <td>288</td>\n",
       "      <td>288</td>\n",
       "      <td>288</td>\n",
       "      <td>288</td>\n",
       "    </tr>\n",
       "    <tr>\n",
       "      <th>2</th>\n",
       "      <td>HOLLYWOOD BLVD</td>\n",
       "      <td>167</td>\n",
       "      <td>167</td>\n",
       "      <td>167</td>\n",
       "      <td>167</td>\n",
       "      <td>167</td>\n",
       "      <td>167</td>\n",
       "    </tr>\n",
       "    <tr>\n",
       "      <th>3</th>\n",
       "      <td>WILSHIRE BLVD</td>\n",
       "      <td>161</td>\n",
       "      <td>161</td>\n",
       "      <td>161</td>\n",
       "      <td>161</td>\n",
       "      <td>161</td>\n",
       "      <td>161</td>\n",
       "    </tr>\n",
       "    <tr>\n",
       "      <th>4</th>\n",
       "      <td>S VERMONT AVE</td>\n",
       "      <td>148</td>\n",
       "      <td>148</td>\n",
       "      <td>148</td>\n",
       "      <td>148</td>\n",
       "      <td>148</td>\n",
       "      <td>148</td>\n",
       "    </tr>\n",
       "    <tr>\n",
       "      <th>5</th>\n",
       "      <td>SANTA MONICA BLVD</td>\n",
       "      <td>146</td>\n",
       "      <td>146</td>\n",
       "      <td>146</td>\n",
       "      <td>146</td>\n",
       "      <td>146</td>\n",
       "      <td>146</td>\n",
       "    </tr>\n",
       "    <tr>\n",
       "      <th>6</th>\n",
       "      <td>W 3RD ST</td>\n",
       "      <td>145</td>\n",
       "      <td>145</td>\n",
       "      <td>145</td>\n",
       "      <td>145</td>\n",
       "      <td>145</td>\n",
       "      <td>145</td>\n",
       "    </tr>\n",
       "    <tr>\n",
       "      <th>7</th>\n",
       "      <td>BEVERLY BLVD</td>\n",
       "      <td>135</td>\n",
       "      <td>135</td>\n",
       "      <td>135</td>\n",
       "      <td>135</td>\n",
       "      <td>135</td>\n",
       "      <td>135</td>\n",
       "    </tr>\n",
       "    <tr>\n",
       "      <th>8</th>\n",
       "      <td>S FIGUEROA ST</td>\n",
       "      <td>134</td>\n",
       "      <td>134</td>\n",
       "      <td>134</td>\n",
       "      <td>134</td>\n",
       "      <td>134</td>\n",
       "      <td>134</td>\n",
       "    </tr>\n",
       "    <tr>\n",
       "      <th>9</th>\n",
       "      <td>MELROSE AVE</td>\n",
       "      <td>128</td>\n",
       "      <td>128</td>\n",
       "      <td>128</td>\n",
       "      <td>128</td>\n",
       "      <td>128</td>\n",
       "      <td>128</td>\n",
       "    </tr>\n",
       "  </tbody>\n",
       "</table>\n",
       "</div>"
      ],
      "text/plain": [
       "              street   id  object_name  address  chain  object_type  seats\n",
       "0      W SUNSET BLVD  296          296      296    296          296    296\n",
       "1        W PICO BLVD  288          288      288    288          288    288\n",
       "2     HOLLYWOOD BLVD  167          167      167    167          167    167\n",
       "3      WILSHIRE BLVD  161          161      161    161          161    161\n",
       "4      S VERMONT AVE  148          148      148    148          148    148\n",
       "5  SANTA MONICA BLVD  146          146      146    146          146    146\n",
       "6           W 3RD ST  145          145      145    145          145    145\n",
       "7       BEVERLY BLVD  135          135      135    135          135    135\n",
       "8      S FIGUEROA ST  134          134      134    134          134    134\n",
       "9        MELROSE AVE  128          128      128    128          128    128"
      ]
     },
     "metadata": {},
     "output_type": "display_data"
    }
   ],
   "source": [
    "#Copia para modificar y agregar columna extra, servirá para los análisis posteriores\n",
    "df = data\n",
    "\n",
    "# Definir una función para extraer las calles\n",
    "def extraer_calle(direccion):\n",
    "    # Utilizar expresiones regulares para encontrar el nombre de las calles\n",
    "    pal = re.sub('^[\\d]+', '', direccion) # Eliminar números al inicio\n",
    "    pal = re.sub('\\b[A-z]\\s', '', pal.strip()) # Eliminar letras solas al inicio\n",
    "    pal = re.sub('#\\w+$', '', pal.strip()) # Eliminar caracteres especiales al final\n",
    "    pal = re.sub('\\d\\/\\d\\s', '', pal.strip()) # Eliminar números con barras\n",
    "    pal = re.sub('\\d\\/\\d\\s', '', pal.strip()) # Eliminar números con barras\n",
    "    pal = re.sub('^[A-z]\\s|\\b[A-z]\\s', '', pal.strip()) #Eliminar letras solas\n",
    "    \n",
    "    pal = re.sub('STA MON', 'SANTA MONICA', pal.strip()) #Cambiar palabras diferentes encontradas\n",
    "    pal = re.sub('AVENUE OF THE STARS', 'AVE OF STARS', pal.strip())\n",
    "    pal = re.sub('AVENUE', '', pal.strip()) #Eliminar repeticiones al inicio de AVENUE\n",
    "    \n",
    "    # Eliminar Prefijios de las palabras\n",
    "    pal = re.sub('(^EL\\s)|(^LA\\s)|(^LAS\\s)|(^LOS\\s)|(^MC\\s)|(^NEW\\s)|(^PASEO\\s)|(^SA\\s)|(^SAN\\s)|(^SANTA\\s)|(^ST\\s)|(^ST.\\s)', '', pal.strip())\n",
    "    return pal.strip().upper().split()[0]\n",
    "\n",
    "# Aplicar la función a la columna\n",
    "df['street'] = df['address'].apply(lambda x: ' '.join(x.split()[1:])) #df['address'].apply(extraer_calle)\n",
    "\n",
    "# Filtrar filas donde se encontró una calle\n",
    "df_filtrado = df.groupby('street', as_index=False).count().sort_values(by='object_name', ascending=False).reset_index(drop=True)\n",
    "\n",
    "display(df_filtrado.head(10))\n",
    "#display(df[df['street']=='MONICA']) #Para obtener las calles completas observar la columna address"
   ]
  },
  {
   "cell_type": "code",
   "execution_count": 15,
   "metadata": {},
   "outputs": [
    {
     "data": {
      "image/png": "[encoded data removed]",
      "text/plain": [
       "<Figure size 432x288 with 1 Axes>"
      ]
     },
     "metadata": {
      "needs_background": "light"
     },
     "output_type": "display_data"
    }
   ],
   "source": [
    "sns.barplot(x='street', y='id', data=df_filtrado.head(10))\n",
    "plt.title('Cantidad de establecimientos por calle')\n",
    "plt.ylabel('quantity')\n",
    "plt.xticks(rotation=90)\n",
    "plt.show()"
   ]
  },
  {
   "cell_type": "markdown",
   "metadata": {},
   "source": [
    "**CONCLUSIÓN**\n",
    "\n",
    "He realizado las operaciones que creí más convenientes para obtener el nombre único de cada calle y poder tener datos más precisos.\n",
    "\n",
    "De los procedimientos encontré que la calle 'W SUNSET BLVD' es la calle con mayor número de establecimientos, seguida muy de cerca por la calle 'W PICO BLVD' con una diferencia leve, después de esas calles se encuentran otras que parecen tener muy leves diferencias en la cantidad entre ellas, como las calles 'S VERMONT AVE', 'SANTA MONICA BLVD' o 'W 3RD ST'.\n",
    "\n",
    "De las mejores calles con mayor cantidad de establecimientos, se observa que la que menos tiene es la calle 'MELROSE AVE' podemos pensar que en esta calle se puede hallar un menor número de competencia para nuestro negocio, y al mismo tiempo ser atractivo para las personas, así que igualmente puede estar como consideración a elegirla."
   ]
  },
  {
   "cell_type": "markdown",
   "metadata": {},
   "source": [
    "[Volver a Contenidos](#back)"
   ]
  },
  {
   "cell_type": "markdown",
   "metadata": {},
   "source": [
    "### Número de calles con un establecimiento <a id='streets_one_rest'></a>\n",
    "\n",
    "La tarea es contar el número de calles que cuentan únicamente con un establecimiento. Este análisis nos puede ayudar a observar cuántas calles tenemos en los datos que sólo cuentan con un establecimiento, con esto tenemos una idea de la proporción de calles en las que quizás existan menos competidores, pero puede que al mismo tiempo existan menos probabilidades de generar mayores ingresos."
   ]
  },
  {
   "cell_type": "code",
   "execution_count": 16,
   "metadata": {
    "scrolled": false
   },
   "outputs": [
    {
     "name": "stdout",
     "output_type": "stream",
     "text": [
      "Cantidad total de calles con un solo establecimiento: 2445\n",
      "Cantidad total de calles: 3074\n",
      "Proporción de calles con un solo establecimiento: 0.7953806115810019\n"
     ]
    },
    {
     "data": {
      "text/html": [
       "<div>\n",
       "<style scoped>\n",
       "    .dataframe tbody tr th:only-of-type {\n",
       "        vertical-align: middle;\n",
       "    }\n",
       "\n",
       "    .dataframe tbody tr th {\n",
       "        vertical-align: top;\n",
       "    }\n",
       "\n",
       "    .dataframe thead th {\n",
       "        text-align: right;\n",
       "    }\n",
       "</style>\n",
       "<table border=\"1\" class=\"dataframe\">\n",
       "  <thead>\n",
       "    <tr style=\"text-align: right;\">\n",
       "      <th></th>\n",
       "      <th>street</th>\n",
       "      <th>id</th>\n",
       "      <th>object_name</th>\n",
       "      <th>address</th>\n",
       "      <th>chain</th>\n",
       "      <th>object_type</th>\n",
       "      <th>seats</th>\n",
       "    </tr>\n",
       "  </thead>\n",
       "  <tbody>\n",
       "    <tr>\n",
       "      <th>629</th>\n",
       "      <td>W 2ND ST #105 -106</td>\n",
       "      <td>1</td>\n",
       "      <td>1</td>\n",
       "      <td>1</td>\n",
       "      <td>1</td>\n",
       "      <td>1</td>\n",
       "      <td>1</td>\n",
       "    </tr>\n",
       "    <tr>\n",
       "      <th>630</th>\n",
       "      <td>S WESTERN AVE E</td>\n",
       "      <td>1</td>\n",
       "      <td>1</td>\n",
       "      <td>1</td>\n",
       "      <td>1</td>\n",
       "      <td>1</td>\n",
       "      <td>1</td>\n",
       "    </tr>\n",
       "    <tr>\n",
       "      <th>631</th>\n",
       "      <td>S WESTERN AVE FC3</td>\n",
       "      <td>1</td>\n",
       "      <td>1</td>\n",
       "      <td>1</td>\n",
       "      <td>1</td>\n",
       "      <td>1</td>\n",
       "      <td>1</td>\n",
       "    </tr>\n",
       "    <tr>\n",
       "      <th>632</th>\n",
       "      <td>S WESTERN AVE STE #127</td>\n",
       "      <td>1</td>\n",
       "      <td>1</td>\n",
       "      <td>1</td>\n",
       "      <td>1</td>\n",
       "      <td>1</td>\n",
       "      <td>1</td>\n",
       "    </tr>\n",
       "    <tr>\n",
       "      <th>633</th>\n",
       "      <td>VINE</td>\n",
       "      <td>1</td>\n",
       "      <td>1</td>\n",
       "      <td>1</td>\n",
       "      <td>1</td>\n",
       "      <td>1</td>\n",
       "      <td>1</td>\n",
       "    </tr>\n",
       "    <tr>\n",
       "      <th>...</th>\n",
       "      <td>...</td>\n",
       "      <td>...</td>\n",
       "      <td>...</td>\n",
       "      <td>...</td>\n",
       "      <td>...</td>\n",
       "      <td>...</td>\n",
       "      <td>...</td>\n",
       "    </tr>\n",
       "    <tr>\n",
       "      <th>3069</th>\n",
       "      <td>S BERENDO ST</td>\n",
       "      <td>1</td>\n",
       "      <td>1</td>\n",
       "      <td>1</td>\n",
       "      <td>1</td>\n",
       "      <td>1</td>\n",
       "      <td>1</td>\n",
       "    </tr>\n",
       "    <tr>\n",
       "      <th>3070</th>\n",
       "      <td>S BEVERWIL DR</td>\n",
       "      <td>1</td>\n",
       "      <td>1</td>\n",
       "      <td>1</td>\n",
       "      <td>1</td>\n",
       "      <td>1</td>\n",
       "      <td>1</td>\n",
       "    </tr>\n",
       "    <tr>\n",
       "      <th>3071</th>\n",
       "      <td>S BOYLE AVE</td>\n",
       "      <td>1</td>\n",
       "      <td>1</td>\n",
       "      <td>1</td>\n",
       "      <td>1</td>\n",
       "      <td>1</td>\n",
       "      <td>1</td>\n",
       "    </tr>\n",
       "    <tr>\n",
       "      <th>3072</th>\n",
       "      <td>S BOYLSTON ST</td>\n",
       "      <td>1</td>\n",
       "      <td>1</td>\n",
       "      <td>1</td>\n",
       "      <td>1</td>\n",
       "      <td>1</td>\n",
       "      <td>1</td>\n",
       "    </tr>\n",
       "    <tr>\n",
       "      <th>3073</th>\n",
       "      <td>hollywood BLVD</td>\n",
       "      <td>1</td>\n",
       "      <td>1</td>\n",
       "      <td>1</td>\n",
       "      <td>1</td>\n",
       "      <td>1</td>\n",
       "      <td>1</td>\n",
       "    </tr>\n",
       "  </tbody>\n",
       "</table>\n",
       "<p>2445 rows × 7 columns</p>\n",
       "</div>"
      ],
      "text/plain": [
       "                      street  id  object_name  address  chain  object_type  \\\n",
       "629       W 2ND ST #105 -106   1            1        1      1            1   \n",
       "630          S WESTERN AVE E   1            1        1      1            1   \n",
       "631        S WESTERN AVE FC3   1            1        1      1            1   \n",
       "632   S WESTERN AVE STE #127   1            1        1      1            1   \n",
       "633                     VINE   1            1        1      1            1   \n",
       "...                      ...  ..          ...      ...    ...          ...   \n",
       "3069            S BERENDO ST   1            1        1      1            1   \n",
       "3070           S BEVERWIL DR   1            1        1      1            1   \n",
       "3071             S BOYLE AVE   1            1        1      1            1   \n",
       "3072           S BOYLSTON ST   1            1        1      1            1   \n",
       "3073          hollywood BLVD   1            1        1      1            1   \n",
       "\n",
       "      seats  \n",
       "629       1  \n",
       "630       1  \n",
       "631       1  \n",
       "632       1  \n",
       "633       1  \n",
       "...     ...  \n",
       "3069      1  \n",
       "3070      1  \n",
       "3071      1  \n",
       "3072      1  \n",
       "3073      1  \n",
       "\n",
       "[2445 rows x 7 columns]"
      ]
     },
     "metadata": {},
     "output_type": "display_data"
    }
   ],
   "source": [
    "print('Cantidad total de calles con un solo establecimiento:', df_filtrado[df_filtrado['id']==1].shape[0])\n",
    "print('Cantidad total de calles:', df_filtrado.shape[0])\n",
    "print('Proporción de calles con un solo establecimiento:', df_filtrado[df_filtrado['id']==1].shape[0] / df_filtrado.shape[0])\n",
    "display(df_filtrado[df_filtrado['id']==1])"
   ]
  },
  {
   "cell_type": "markdown",
   "metadata": {},
   "source": [
    "**CONCLUSIÓN**\n",
    "\n",
    "Se observa que la cantidad total de calles registradas con un solo establecimiento es de 2445, en proporción con el total de calles registradas que es de 3074, se tiene que la proporción es de 79.54%, lo cuál es una proporción considerablemente alta, la mayor parte de las calles cuentan con un solo establecimiento. Esto me permite pensar que quizas estas sean calles pequeñas o muy alejadas de los lugares más frecuentados de la ciudad, o incluso existe la posibilidad de que el resto de calles con más establecimentos se concentran cerca de una zona específica de la ciudad."
   ]
  },
  {
   "cell_type": "markdown",
   "metadata": {},
   "source": [
    "[Volver a Contenidos](#back)"
   ]
  },
  {
   "cell_type": "markdown",
   "metadata": {},
   "source": [
    "### Distribución del número de asientos por calle <a id='streets_seats'></a>\n",
    "\n",
    "Para las calles que cuentan con muchos restaurantes, se pide analizar la distribución del número de asientos y observar las tendencias. Esta tarea la llevaré a cabo utilizando dos visualizaciones, la primera será sobre el número promedio de asientos en los establecimientos de las calles con mayor número de establecimientos; la segunda visualización se realizará sobre el numero total de asientos en cada establecimiento, usando solamente los datos de las mejores calles.\n",
    "\n",
    "Considero que la primera forma de visualizar los datos puede ayudarnos a entender la cantidad de asientos que suelen colocar los establecimientos de acuerdo a la calle en la que se encuentran, mientras que la segunda forma de visualización puede ayudarnos a observar el rango en el número de asientos de los establecimientos que se encuentran en esas calles."
   ]
  },
  {
   "cell_type": "code",
   "execution_count": 17,
   "metadata": {
    "scrolled": false
   },
   "outputs": [
    {
     "data": {
      "text/html": [
       "<div>\n",
       "<style scoped>\n",
       "    .dataframe tbody tr th:only-of-type {\n",
       "        vertical-align: middle;\n",
       "    }\n",
       "\n",
       "    .dataframe tbody tr th {\n",
       "        vertical-align: top;\n",
       "    }\n",
       "\n",
       "    .dataframe thead th {\n",
       "        text-align: right;\n",
       "    }\n",
       "</style>\n",
       "<table border=\"1\" class=\"dataframe\">\n",
       "  <thead>\n",
       "    <tr style=\"text-align: right;\">\n",
       "      <th></th>\n",
       "      <th>street</th>\n",
       "      <th>id</th>\n",
       "      <th>seats</th>\n",
       "    </tr>\n",
       "  </thead>\n",
       "  <tbody>\n",
       "    <tr>\n",
       "      <th>0</th>\n",
       "      <td>W SUNSET BLVD</td>\n",
       "      <td>296</td>\n",
       "      <td>50.918919</td>\n",
       "    </tr>\n",
       "    <tr>\n",
       "      <th>1</th>\n",
       "      <td>W PICO BLVD</td>\n",
       "      <td>288</td>\n",
       "      <td>40.878472</td>\n",
       "    </tr>\n",
       "    <tr>\n",
       "      <th>2</th>\n",
       "      <td>HOLLYWOOD BLVD</td>\n",
       "      <td>167</td>\n",
       "      <td>53.730539</td>\n",
       "    </tr>\n",
       "    <tr>\n",
       "      <th>3</th>\n",
       "      <td>WILSHIRE BLVD</td>\n",
       "      <td>161</td>\n",
       "      <td>62.130435</td>\n",
       "    </tr>\n",
       "    <tr>\n",
       "      <th>4</th>\n",
       "      <td>S VERMONT AVE</td>\n",
       "      <td>148</td>\n",
       "      <td>45.878378</td>\n",
       "    </tr>\n",
       "    <tr>\n",
       "      <th>5</th>\n",
       "      <td>SANTA MONICA BLVD</td>\n",
       "      <td>146</td>\n",
       "      <td>32.390411</td>\n",
       "    </tr>\n",
       "    <tr>\n",
       "      <th>6</th>\n",
       "      <td>W 3RD ST</td>\n",
       "      <td>145</td>\n",
       "      <td>43.931034</td>\n",
       "    </tr>\n",
       "    <tr>\n",
       "      <th>7</th>\n",
       "      <td>BEVERLY BLVD</td>\n",
       "      <td>135</td>\n",
       "      <td>44.770370</td>\n",
       "    </tr>\n",
       "    <tr>\n",
       "      <th>8</th>\n",
       "      <td>S FIGUEROA ST</td>\n",
       "      <td>134</td>\n",
       "      <td>50.761194</td>\n",
       "    </tr>\n",
       "    <tr>\n",
       "      <th>9</th>\n",
       "      <td>MELROSE AVE</td>\n",
       "      <td>128</td>\n",
       "      <td>52.429688</td>\n",
       "    </tr>\n",
       "  </tbody>\n",
       "</table>\n",
       "</div>"
      ],
      "text/plain": [
       "              street   id      seats\n",
       "0      W SUNSET BLVD  296  50.918919\n",
       "1        W PICO BLVD  288  40.878472\n",
       "2     HOLLYWOOD BLVD  167  53.730539\n",
       "3      WILSHIRE BLVD  161  62.130435\n",
       "4      S VERMONT AVE  148  45.878378\n",
       "5  SANTA MONICA BLVD  146  32.390411\n",
       "6           W 3RD ST  145  43.931034\n",
       "7       BEVERLY BLVD  135  44.770370\n",
       "8      S FIGUEROA ST  134  50.761194\n",
       "9        MELROSE AVE  128  52.429688"
      ]
     },
     "metadata": {},
     "output_type": "display_data"
    },
    {
     "data": {
      "image/png": "[encoded data removed]",
      "text/plain": [
       "<Figure size 432x288 with 1 Axes>"
      ]
     },
     "metadata": {
      "needs_background": "light"
     },
     "output_type": "display_data"
    }
   ],
   "source": [
    "# Distribución del número PROMEDIO de asientos para las calles con mayor número de establecimientos\n",
    "df_asientos = df.groupby('street', as_index=False).agg({'id':'count', 'seats':'mean'}).sort_values(by='id', ascending=False).reset_index(drop=True)\n",
    "\n",
    "display(df_asientos.head(10))\n",
    "\n",
    "sns.barplot(x='street', y='seats', data=df_asientos.head(10))\n",
    "plt.title('Distribución promedio de asientos por calle')\n",
    "plt.xticks(rotation=90)\n",
    "plt.show()"
   ]
  },
  {
   "cell_type": "code",
   "execution_count": 18,
   "metadata": {
    "scrolled": false
   },
   "outputs": [
    {
     "data": {
      "image/png": "[encoded data removed]",
      "text/plain": [
       "<Figure size 360x360 with 1 Axes>"
      ]
     },
     "metadata": {
      "needs_background": "light"
     },
     "output_type": "display_data"
    }
   ],
   "source": [
    "# Distribución total de los asientos para las calles con mayor cantidad de establecimientos\n",
    "street_list = []\n",
    "for street in df_filtrado['street'].head(10): street_list.append(street)\n",
    "\n",
    "dist = df[df['street'].isin(street_list)] # Distribución general de número de asientos para las 10 mejores calles\n",
    "#display(dist)\n",
    "\n",
    "sns.displot(x='seats', data=dist, kde=True)\n",
    "plt.title('Distribución de asientos por calle')\n",
    "plt.xticks(rotation=90)\n",
    "plt.show()"
   ]
  },
  {
   "cell_type": "markdown",
   "metadata": {},
   "source": [
    "**CONCLUSIÓN**\n",
    "\n",
    "Habiendo realizado las visualizaciones, podemos observar que el promedio de asientos por calle es mucho mayor en la calle con menos establecimientos 'WILSHIRE BLVD', esto me permite pensar que los establecimientos en esta calle esperan recibir a una mayor cantidad de personas o simplemente tienen mayor espacio en esa calle. En cuanto a la distribución general, observamos que en estas calles existe mayor cantidad de establecimientos con menos de 50 asientos.\n",
    "\n",
    "Usando ambas distribuciones y juntando con el previo análisis de las calles con mayor número de establecimientos, puedo sugerir las calles 'W 3RD ST', 'BEVERLY BLVD' o 'SANTA MONICA BLVD' como opciones potenciales, estas calles presentan un balance entre el número de asientos y la cantidad de competencia en la misma calle, de esta forma se usa una localización frecuentada y al mismo tiempo se requiere menor cantidad de inversión en el número de asientos."
   ]
  },
  {
   "cell_type": "markdown",
   "metadata": {},
   "source": [
    "[Volver a Contenidos](#back)"
   ]
  },
  {
   "cell_type": "markdown",
   "metadata": {},
   "source": [
    "## PRESENTACIÓN <a id='presentation'></a>"
   ]
  },
  {
   "cell_type": "markdown",
   "metadata": {},
   "source": [
    "Se realizará una presentación para ser presentada al grupo de inversionistas del negocio que queremos crear. En la presentación se encuentran explicaciones sobre los resultados mostrados en este proyecto. La presentación se encuentra en  formato pdf a través del siguiente Link: \n",
    "\n",
    "https://drive.google.com/file/d/1j4D0D1CI4c6Tu3MNmX9TssVeQyR3a5Mj/view?usp=sharing"
   ]
  },
  {
   "cell_type": "markdown",
   "metadata": {},
   "source": [
    "[Volver a Contenidos](#back)"
   ]
  },
  {
   "cell_type": "markdown",
   "metadata": {},
   "source": [
    "## CONCLUSIONES GENERALES <a id='end'></a>"
   ]
  },
  {
   "cell_type": "markdown",
   "metadata": {},
   "source": [
    "Llega a una conclusión y aporta recomendaciones sobre el tipo de restaurante y el número de asientos. Comenta la posibilidad de desarrollar una cadena.\n",
    "\n",
    "Esperando que los análisis solicitados se hayan realizado de la forma correcta, puedo concluir que realizar un establecimiento de tipo 'Cafe' como se tenía planeado, puede ser una buena idea, ya que no existen muchos de este tipo en proporción al resto de establecimientos, al mismo tiempo se puede llegar a considerar una cadena si el negocio resulta exitoso ya que existen varios establecimientos del mismo tipo que tienen cadenas. En cuanto a lo que pudimos observar respecto a las cadenas, la mayoría de las cadenas presentan menor cantidad de asientos y menor cantidad en cuanto al tipo de establecimiento que planeamos crear.\n",
    "\n",
    "Gracias a los resultados observados en la investigación de las calles, se puede buscar una calle con menor competencia y que a su vez permita tener el espacio suficiente para almacenar a un número considerable de clientes, las calles que he sugerido me parecen ser las que mejor adaptan el promedio en el número de asientos con el número de competidores, pues dado que es un negocio emergente, será bueno no tene altas expectativas.\n",
    "\n"
   ]
  },
  {
   "cell_type": "markdown",
   "metadata": {},
   "source": [
    "[Volver a Contenidos](#back)"
   ]
  }
 ],
 "metadata": {
  "kernelspec": {
   "display_name": "Python 3 (ipykernel)",
   "language": "python",
   "name": "python3"
  },
  "language_info": {
   "codemirror_mode": {
    "name": "ipython",
    "version": 3
   },
   "file_extension": ".py",
   "mimetype": "text/x-python",
   "name": "python",
   "nbconvert_exporter": "python",
   "pygments_lexer": "ipython3",
   "version": "3.7.8"
  },
  "toc": {
   "base_numbering": 1,
   "nav_menu": {},
   "number_sections": true,
   "sideBar": true,
   "skip_h1_title": true,
   "title_cell": "Tabla de Contenidos",
   "title_sidebar": "Contenidos",
   "toc_cell": true,
   "toc_position": {},
   "toc_section_display": true,
   "toc_window_display": false
  }
 },
 "nbformat": 4,
 "nbformat_minor": 2
}
